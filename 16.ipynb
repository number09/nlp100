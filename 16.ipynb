{
 "cells": [
  {
   "cell_type": "code",
   "execution_count": 18,
   "metadata": {},
   "outputs": [
    {
     "name": "stdout",
     "output_type": "stream",
     "text": [
      "3\n"
     ]
    }
   ],
   "source": [
    "import math\n",
    "\n",
    "splitnum = int(input())\n",
    "\n",
    "with open('hightemp.txt','r') as infile:\n",
    "    linenum = len(list(infile))\n",
    "    sectionperline = int(linenum / splitnum)\n",
    "    infile.seek(0)\n",
    "    for idx,line in enumerate(infile):\n",
    "        \n",
    "        div = math.floor(idx / sectionperline)\n",
    "        with open('div' + str(div) + '.txt','a') as wfile:\n",
    "            wfile.write(line + '\\n')\n",
    "        \n",
    "        \n",
    "\n",
    "    \n",
    "\n"
   ]
  },
  {
   "cell_type": "code",
   "execution_count": null,
   "metadata": {},
   "outputs": [],
   "source": []
  }
 ],
 "metadata": {
  "kernelspec": {
   "display_name": "Python 3",
   "language": "python",
   "name": "python3"
  },
  "language_info": {
   "codemirror_mode": {
    "name": "ipython",
    "version": 3
   },
   "file_extension": ".py",
   "mimetype": "text/x-python",
   "name": "python",
   "nbconvert_exporter": "python",
   "pygments_lexer": "ipython3",
   "version": "3.6.4"
  }
 },
 "nbformat": 4,
 "nbformat_minor": 2
}
