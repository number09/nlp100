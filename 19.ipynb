{
 "cells": [
  {
   "cell_type": "code",
   "execution_count": 13,
   "metadata": {},
   "outputs": [
    {
     "data": {
      "text/plain": [
       "[('埼玉県', 3),\n",
       " ('山形県', 3),\n",
       " ('山梨県', 3),\n",
       " ('群馬県', 3),\n",
       " ('岐阜県', 2),\n",
       " ('静岡県', 2),\n",
       " ('愛知県', 2),\n",
       " ('千葉県', 2),\n",
       " ('高知県', 1),\n",
       " ('和歌山県', 1),\n",
       " ('愛媛県', 1),\n",
       " ('大阪府', 1)]"
      ]
     },
     "execution_count": 13,
     "metadata": {},
     "output_type": "execute_result"
    }
   ],
   "source": [
    "col1 = {}\n",
    "\n",
    "with open('hightemp.txt','r') as infile:\n",
    "    for line in infile:\n",
    "        key = line.split('\\t')[0]\n",
    "        col1[key] = col1.get(key,0) +1\n",
    "        \n",
    "sorted(col1.items(),key=lambda x : x[1],reverse=True)"
   ]
  },
  {
   "cell_type": "code",
   "execution_count": null,
   "metadata": {},
   "outputs": [],
   "source": []
  }
 ],
 "metadata": {
  "kernelspec": {
   "display_name": "Python 3",
   "language": "python",
   "name": "python3"
  },
  "language_info": {
   "codemirror_mode": {
    "name": "ipython",
    "version": 3
   },
   "file_extension": ".py",
   "mimetype": "text/x-python",
   "name": "python",
   "nbconvert_exporter": "python",
   "pygments_lexer": "ipython3",
   "version": "3.6.4"
  }
 },
 "nbformat": 4,
 "nbformat_minor": 2
}
