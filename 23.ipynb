{
 "cells": [
  {
   "cell_type": "code",
   "execution_count": 20,
   "metadata": {},
   "outputs": [
    {
     "name": "stdout",
     "output_type": "stream",
     "text": [
      "国名:1\n",
      "歴史:1\n",
      "地理:1\n",
      "気候:2\n",
      "政治:1\n",
      "外交と軍事:1\n",
      "地方行政区分:1\n",
      "主要都市:2\n",
      "科学技術:1\n",
      "経済:1\n",
      "鉱業:2\n",
      "農業:2\n",
      "貿易:2\n",
      "通貨:2\n",
      "企業:2\n",
      "交通:1\n",
      "道路:2\n",
      "鉄道:2\n",
      "海運:2\n",
      "航空:2\n",
      "通信:1\n",
      "国民:1\n",
      "言語:2\n",
      "宗教:2\n",
      "教育:2\n",
      "文化:1\n",
      "食文化:2\n",
      "文学:2\n",
      "音楽:2\n",
      "イギリスのポピュラー音楽:3\n",
      "映画:2\n",
      "コメディ:2\n",
      "国花:2\n",
      "世界遺産:2\n",
      "祝祭日:2\n",
      "スポーツ:1\n",
      "サッカー:2\n",
      "競馬:2\n",
      "モータースポーツ:2\n",
      "脚注:1\n",
      "関連項目:1\n",
      "外部リンク:1\n"
     ]
    }
   ],
   "source": [
    "import json\n",
    "import re\n",
    "\n",
    "reg = re.compile(r'(={2,})(\\w+)(={2,})?')\n",
    "with open('jawiki-country.json','r') as infile:\n",
    "    for line in infile:\n",
    "        jdic = json.loads(line)\n",
    "        if jdic['title'] == 'イギリス':\n",
    "            for tline in jdic['text'].split('\\n'):\n",
    "                if reg.match(tline):\n",
    "                    print(reg.match(tline).group(2) + ':'\n",
    "                          + str(len(reg.match(tline).group(1))-1))"
   ]
  },
  {
   "cell_type": "code",
   "execution_count": null,
   "metadata": {},
   "outputs": [],
   "source": []
  }
 ],
 "metadata": {
  "kernelspec": {
   "display_name": "Python 3",
   "language": "python",
   "name": "python3"
  },
  "language_info": {
   "codemirror_mode": {
    "name": "ipython",
    "version": 3
   },
   "file_extension": ".py",
   "mimetype": "text/x-python",
   "name": "python",
   "nbconvert_exporter": "python",
   "pygments_lexer": "ipython3",
   "version": "3.6.4"
  }
 },
 "nbformat": 4,
 "nbformat_minor": 2
}
