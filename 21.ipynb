{
 "cells": [
  {
   "cell_type": "code",
   "execution_count": 5,
   "metadata": {},
   "outputs": [
    {
     "name": "stdout",
     "output_type": "stream",
     "text": [
      "==国名==\n",
      "==歴史==\n",
      "==地理==\n",
      "===気候===\n",
      "==政治==\n",
      "==外交と軍事==\n",
      "==地方行政区分==\n",
      "===主要都市===\n",
      "==科学技術==\n",
      "==経済==\n",
      "===鉱業===\n",
      "===農業===\n",
      "===貿易===\n",
      "===通貨===\n",
      "===企業===\n",
      "==交通==\n",
      "===道路===\n",
      "===鉄道===\n",
      "===海運===\n",
      "===航空===\n",
      "==通信==\n",
      "==国民==\n",
      "===言語===\n",
      "===宗教===\n",
      "=== 婚姻 ===\n",
      "===教育===\n",
      "==文化==\n",
      "===食文化===\n",
      "===文学===\n",
      "=== 哲学 ===\n",
      "===音楽===\n",
      "====イギリスのポピュラー音楽====\n",
      "===映画===\n",
      "===コメディ===\n",
      "===国花===\n",
      "===世界遺産===\n",
      "===祝祭日===\n",
      "==スポーツ==\n",
      "===サッカー===\n",
      "===競馬===\n",
      "===モータースポーツ===\n",
      "==脚注==\n",
      "==関連項目==\n",
      "==外部リンク==\n"
     ]
    }
   ],
   "source": [
    "import json\n",
    "import re\n",
    "\n",
    "reg = re.compile(r'^==*')\n",
    "with open('jawiki-country.json','r') as infile:\n",
    "    for line in infile:\n",
    "        jdic = json.loads(line)\n",
    "        if jdic['title'] == 'イギリス':\n",
    "            for tline in jdic['text'].split('\\n'):\n",
    "                if reg.match(tline):\n",
    "                    print(tline)"
   ]
  },
  {
   "cell_type": "code",
   "execution_count": null,
   "metadata": {},
   "outputs": [],
   "source": []
  }
 ],
 "metadata": {
  "kernelspec": {
   "display_name": "Python 3",
   "language": "python",
   "name": "python3"
  },
  "language_info": {
   "codemirror_mode": {
    "name": "ipython",
    "version": 3
   },
   "file_extension": ".py",
   "mimetype": "text/x-python",
   "name": "python",
   "nbconvert_exporter": "python",
   "pygments_lexer": "ipython3",
   "version": "3.6.4"
  }
 },
 "nbformat": 4,
 "nbformat_minor": 2
}
