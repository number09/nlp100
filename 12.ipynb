{
 "cells": [
  {
   "cell_type": "code",
   "execution_count": 9,
   "metadata": {},
   "outputs": [],
   "source": [
    "with open('hightemp.txt','r') as infile:\n",
    "    for line in infile:\n",
    "        words = line.split('\\t')\n",
    "        file1 =open('w1.txt','a')\n",
    "        file2 =open('w2.txt','a')\n",
    "        file1.write(words[0] +'\\n')\n",
    "        file2.write(words[1] +'\\n')\n",
    "        file1.close()\n",
    "        file2.close()\n",
    "\n"
   ]
  },
  {
   "cell_type": "code",
   "execution_count": null,
   "metadata": {},
   "outputs": [],
   "source": []
  }
 ],
 "metadata": {
  "kernelspec": {
   "display_name": "Python 3",
   "language": "python",
   "name": "python3"
  },
  "language_info": {
   "codemirror_mode": {
    "name": "ipython",
    "version": 3
   },
   "file_extension": ".py",
   "mimetype": "text/x-python",
   "name": "python",
   "nbconvert_exporter": "python",
   "pygments_lexer": "ipython3",
   "version": "3.6.4"
  }
 },
 "nbformat": 4,
 "nbformat_minor": 2
}
