{
 "cells": [
  {
   "cell_type": "code",
   "execution_count": 21,
   "metadata": {},
   "outputs": [
    {
     "data": {
      "text/plain": [
       "['I',\n",
       " \"c'olundt\",\n",
       " 'bveilee',\n",
       " 'that',\n",
       " 'I',\n",
       " 'cluod',\n",
       " 'allcuaty',\n",
       " 'udentansrd',\n",
       " 'what',\n",
       " 'I',\n",
       " 'was',\n",
       " 'riaendg',\n",
       " ':',\n",
       " 'the',\n",
       " 'phmnneoeal',\n",
       " 'peowr',\n",
       " 'of',\n",
       " 'the',\n",
       " 'huamn',\n",
       " 'mind',\n",
       " '.']"
      ]
     },
     "execution_count": 21,
     "metadata": {},
     "output_type": "execute_result"
    }
   ],
   "source": [
    "import random\n",
    "\n",
    "def exchange(sentence):\n",
    "    result = []\n",
    "    for w in sentence.split(\" \"):\n",
    "        if len(w) >= 5:\n",
    "            first = w[0]\n",
    "            last = w[-1]\n",
    "            center = w[1:-1]\n",
    "            \n",
    "            #print(first)\n",
    "            #print(last)\n",
    "            #print(center)\n",
    "            cn = list(center)\n",
    "            random.shuffle(cn)\n",
    "            #print(cn)\n",
    "            result.append(first + \"\".join(cn) + last)\n",
    "        else:\n",
    "            result.append(w)\n",
    "        \n",
    "    return result\n",
    "        \n",
    "        \n",
    "                               \n",
    "exchange(\"I couldn't believe that I could actually understand what I was reading : the phenomenal power of the human mind .\")\n",
    "            \n"
   ]
  },
  {
   "cell_type": "code",
   "execution_count": null,
   "metadata": {},
   "outputs": [],
   "source": []
  },
  {
   "cell_type": "code",
   "execution_count": null,
   "metadata": {},
   "outputs": [],
   "source": []
  },
  {
   "cell_type": "code",
   "execution_count": null,
   "metadata": {},
   "outputs": [],
   "source": []
  },
  {
   "cell_type": "code",
   "execution_count": null,
   "metadata": {},
   "outputs": [],
   "source": []
  },
  {
   "cell_type": "code",
   "execution_count": null,
   "metadata": {},
   "outputs": [],
   "source": []
  }
 ],
 "metadata": {
  "kernelspec": {
   "display_name": "Python 3",
   "language": "python",
   "name": "python3"
  },
  "language_info": {
   "codemirror_mode": {
    "name": "ipython",
    "version": 3
   },
   "file_extension": ".py",
   "mimetype": "text/x-python",
   "name": "python",
   "nbconvert_exporter": "python",
   "pygments_lexer": "ipython3",
   "version": "3.6.3"
  }
 },
 "nbformat": 4,
 "nbformat_minor": 2
}
