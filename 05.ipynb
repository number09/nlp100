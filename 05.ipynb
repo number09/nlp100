{
 "cells": [
  {
   "cell_type": "code",
   "execution_count": 28,
   "metadata": {},
   "outputs": [
    {
     "name": "stdout",
     "output_type": "stream",
     "text": [
      "I \n",
      " a\n",
      "am\n",
      "m \n",
      " a\n",
      "an\n",
      "n \n",
      " N\n",
      "NL\n",
      "LP\n",
      "Pe\n",
      "er\n",
      "['I', 'am']\n",
      "['am', 'an']\n",
      "['an', 'NLPer']\n"
     ]
    }
   ],
   "source": [
    "def ngram(input,number):\n",
    "    \n",
    "    for n in range(len(input) - (number -1)):\n",
    "        print(input[n:n + number])\n",
    "        \n",
    "ngram(\"I am an NLPer\",2)\n",
    "ngram(\"I am an NLPer\".split(\" \"),2)"
   ]
  },
  {
   "cell_type": "code",
   "execution_count": null,
   "metadata": {},
   "outputs": [],
   "source": []
  }
 ],
 "metadata": {
  "kernelspec": {
   "display_name": "Python 3",
   "language": "python",
   "name": "python3"
  },
  "language_info": {
   "codemirror_mode": {
    "name": "ipython",
    "version": 3
   },
   "file_extension": ".py",
   "mimetype": "text/x-python",
   "name": "python",
   "nbconvert_exporter": "python",
   "pygments_lexer": "ipython3",
   "version": "3.6.3"
  }
 },
 "nbformat": 4,
 "nbformat_minor": 2
}
