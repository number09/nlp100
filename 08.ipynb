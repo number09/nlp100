{
 "cells": [
  {
   "cell_type": "code",
   "execution_count": 9,
   "metadata": {},
   "outputs": [
    {
     "name": "stdout",
     "output_type": "stream",
     "text": [
      "gvhg\n"
     ]
    }
   ],
   "source": [
    "def cipher(text):\n",
    "    result = []\n",
    "    for w in text:\n",
    "        if w.islower():\n",
    "            result.append(chr(219 - ord(w)))\n",
    "        else:\n",
    "            result.append(w)\n",
    "                          \n",
    "    return \"\".join(result)\n",
    "\n",
    "print(cipher(\"test\"))"
   ]
  },
  {
   "cell_type": "code",
   "execution_count": null,
   "metadata": {},
   "outputs": [],
   "source": []
  }
 ],
 "metadata": {
  "kernelspec": {
   "display_name": "Python 3",
   "language": "python",
   "name": "python3"
  },
  "language_info": {
   "codemirror_mode": {
    "name": "ipython",
    "version": 3
   },
   "file_extension": ".py",
   "mimetype": "text/x-python",
   "name": "python",
   "nbconvert_exporter": "python",
   "pygments_lexer": "ipython3",
   "version": "3.6.3"
  }
 },
 "nbformat": 4,
 "nbformat_minor": 2
}
