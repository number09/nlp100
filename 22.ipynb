{
 "cells": [
  {
   "cell_type": "code",
   "execution_count": 25,
   "metadata": {},
   "outputs": [
    {
     "name": "stdout",
     "output_type": "stream",
     "text": [
      "[[Category:イギリス|*]]\n",
      "イギリス|*\n",
      "[[Category:英連邦王国|*]]\n",
      "英連邦王国|*\n",
      "[[Category:G8加盟国]]\n",
      "G8加盟国\n",
      "[[Category:欧州連合加盟国]]\n",
      "欧州連合加盟国\n",
      "[[Category:海洋国家]]\n",
      "海洋国家\n",
      "[[Category:君主国]]\n",
      "君主国\n",
      "[[Category:島国|くれいとふりてん]]\n",
      "島国|くれいとふりてん\n",
      "[[Category:1801年に設立された州・地域]]\n",
      "1801年に設立された州・地域\n"
     ]
    }
   ],
   "source": [
    "import json\n",
    "import re\n",
    "\n",
    "reg = re.compile(r'(\\[\\[)(Category:)(.*)(\\]\\])')\n",
    "with open('jawiki-country.json','r') as infile:\n",
    "    for line in infile:\n",
    "        jdic = json.loads(line)\n",
    "        if jdic['title'] == 'イギリス':\n",
    "            for tline in jdic['text'].split('\\n'):\n",
    "                if reg.match(tline):\n",
    "                    print(tline)\n",
    "                    print(reg.match(tline).group(3))"
   ]
  },
  {
   "cell_type": "code",
   "execution_count": null,
   "metadata": {},
   "outputs": [],
   "source": []
  },
  {
   "cell_type": "code",
   "execution_count": null,
   "metadata": {},
   "outputs": [],
   "source": []
  }
 ],
 "metadata": {
  "kernelspec": {
   "display_name": "Python 3",
   "language": "python",
   "name": "python3"
  },
  "language_info": {
   "codemirror_mode": {
    "name": "ipython",
    "version": 3
   },
   "file_extension": ".py",
   "mimetype": "text/x-python",
   "name": "python",
   "nbconvert_exporter": "python",
   "pygments_lexer": "ipython3",
   "version": "3.6.4"
  }
 },
 "nbformat": 4,
 "nbformat_minor": 2
}
