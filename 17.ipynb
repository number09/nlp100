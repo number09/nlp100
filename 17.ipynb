{
 "cells": [
  {
   "cell_type": "code",
   "execution_count": 8,
   "metadata": {},
   "outputs": [
    {
     "name": "stdout",
     "output_type": "stream",
     "text": [
      "{'群馬県', '山梨県', '和歌山県', '静岡県', '愛媛県', '山形県', '埼玉県', '大阪府', '千葉県', '愛知県', '岐阜県', '高知県'}\n"
     ]
    }
   ],
   "source": [
    "with open('hightemp.txt','r') as infile:\n",
    "    \n",
    "    st = set()\n",
    "    for ls in [l.strip().split('\\t') for l in infile]:\n",
    "        st.add(ls[0])\n",
    "    \n",
    "    print(st)\n",
    "    \n",
    "    #print(list(map(lambda x: x.strip().split('t'),infile)))\n",
    "    "
   ]
  },
  {
   "cell_type": "code",
   "execution_count": null,
   "metadata": {},
   "outputs": [],
   "source": []
  }
 ],
 "metadata": {
  "kernelspec": {
   "display_name": "Python 3",
   "language": "python",
   "name": "python3"
  },
  "language_info": {
   "codemirror_mode": {
    "name": "ipython",
    "version": 3
   },
   "file_extension": ".py",
   "mimetype": "text/x-python",
   "name": "python",
   "nbconvert_exporter": "python",
   "pygments_lexer": "ipython3",
   "version": "3.6.4"
  }
 },
 "nbformat": 4,
 "nbformat_minor": 2
}
