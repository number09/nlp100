{
 "cells": [
  {
   "cell_type": "code",
   "execution_count": 6,
   "metadata": {},
   "outputs": [
    {
     "name": "stdout",
     "output_type": "stream",
     "text": [
      "{'ar', 'di', 'se', 'ad', 'is', 'ra', 'ap', 'pa'}\n",
      "{'ar', 'ag', 'gr', 'ra', 'ap', 'pa', 'ph'}\n",
      "{'ar', 'ag', 'di', 'se', 'ad', 'is', 'gr', 'ra', 'ap', 'pa', 'ph'}\n",
      "{'ar', 'ra', 'pa', 'ap'}\n",
      "{'se', 'ad', 'is', 'di'}\n",
      "True\n",
      "False\n"
     ]
    }
   ],
   "source": [
    "def ngram(input,number):\n",
    "    \n",
    "    result = []\n",
    "    for n in range(len(input) - (number -1)):\n",
    "        #print(input[n:n + number])\n",
    "        result.append(input[n:n + number])\n",
    "    return result\n",
    "\n",
    "x_text = \"paraparaparadise\"\n",
    "y_text = \"paragraph\"\n",
    "\n",
    "x_set = set(ngram(x_text,2))\n",
    "y_set = set(ngram(y_text,2))\n",
    "\n",
    "print(x_set)\n",
    "print(y_set)\n",
    "\n",
    "wa_set = x_set.union(y_set)\n",
    "print(wa_set)\n",
    "\n",
    "seki_set = x_set.intersection(y_set)\n",
    "print(seki_set)\n",
    "\n",
    "sa_set = x_set.difference(y_set)\n",
    "print(sa_set)\n",
    "\n",
    "print(\"se\" in x_set)\n",
    "print(\"se\" in y_set)"
   ]
  },
  {
   "cell_type": "code",
   "execution_count": null,
   "metadata": {},
   "outputs": [],
   "source": []
  }
 ],
 "metadata": {
  "kernelspec": {
   "display_name": "Python 3",
   "language": "python",
   "name": "python3"
  },
  "language_info": {
   "codemirror_mode": {
    "name": "ipython",
    "version": 3
   },
   "file_extension": ".py",
   "mimetype": "text/x-python",
   "name": "python",
   "nbconvert_exporter": "python",
   "pygments_lexer": "ipython3",
   "version": "3.6.3"
  }
 },
 "nbformat": 4,
 "nbformat_minor": 2
}
