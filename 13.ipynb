{
 "cells": [
  {
   "cell_type": "code",
   "execution_count": 10,
   "metadata": {},
   "outputs": [],
   "source": [
    "file1 = open('w1.txt','r')\n",
    "file2 = open('w2.txt','r')\n",
    "file3 = open('w3.txt','a')\n",
    "\n",
    "for word1,word2 in zip(file1,file2):\n",
    "    #print(str.join('\\t',(word1.strip(),word2.strip())))\n",
    "    file3.write(str.join('\\t',(word1.strip(),word2.strip())) + '\\n')\n",
    "    \n",
    "file1.close()\n",
    "file2.close()\n",
    "file3.close()"
   ]
  },
  {
   "cell_type": "code",
   "execution_count": null,
   "metadata": {},
   "outputs": [],
   "source": []
  }
 ],
 "metadata": {
  "kernelspec": {
   "display_name": "Python 3",
   "language": "python",
   "name": "python3"
  },
  "language_info": {
   "codemirror_mode": {
    "name": "ipython",
    "version": 3
   },
   "file_extension": ".py",
   "mimetype": "text/x-python",
   "name": "python",
   "nbconvert_exporter": "python",
   "pygments_lexer": "ipython3",
   "version": "3.6.4"
  }
 },
 "nbformat": 4,
 "nbformat_minor": 2
}
